{
  "nbformat": 4,
  "nbformat_minor": 0,
  "metadata": {
    "colab": {
      "name": "Untitled42.ipynb",
      "provenance": []
    },
    "kernelspec": {
      "name": "python3",
      "display_name": "Python 3"
    },
    "language_info": {
      "name": "python"
    }
  },
  "cells": [
    {
      "cell_type": "markdown",
      "metadata": {
        "id": "Dos8a7vvylfZ"
      },
      "source": [
        "# MNIST Digit Recognistion"
      ]
    },
    {
      "cell_type": "markdown",
      "metadata": {
        "id": "_xrsPP4Sy66P"
      },
      "source": [
        "### Importing some of the commonly used libraries"
      ]
    },
    {
      "cell_type": "code",
      "metadata": {
        "id": "nshGrIs5iMru"
      },
      "source": [
        "import numpy as np\n",
        "import pandas as pd\n",
        "import matplotlib.pyplot as plt\n",
        "import seaborn as sns\n",
        "%matplotlib inline"
      ],
      "execution_count": 1,
      "outputs": []
    },
    {
      "cell_type": "markdown",
      "metadata": {
        "id": "wkfMLjTmzGDh"
      },
      "source": [
        "## Getting the Data"
      ]
    },
    {
      "cell_type": "code",
      "metadata": {
        "id": "JJv_mAUzsuRJ"
      },
      "source": [
        "df_train = pd.read_csv('mnist_train.csv')\n",
        "df_test = pd.read_csv('mnist_test.csv')"
      ],
      "execution_count": 2,
      "outputs": []
    },
    {
      "cell_type": "markdown",
      "metadata": {
        "id": "YtADsGvszYQf"
      },
      "source": [
        "Taking a look into the data"
      ]
    },
    {
      "cell_type": "code",
      "metadata": {
        "colab": {
          "base_uri": "https://localhost:8080/",
          "height": 246
        },
        "id": "tYImSFYDsujo",
        "outputId": "11bf622b-f924-4f04-cb5d-a6c68564a8a5"
      },
      "source": [
        "df_train.head()"
      ],
      "execution_count": 5,
      "outputs": [
        {
          "output_type": "execute_result",
          "data": {
            "text/html": [
              "<div>\n",
              "<style scoped>\n",
              "    .dataframe tbody tr th:only-of-type {\n",
              "        vertical-align: middle;\n",
              "    }\n",
              "\n",
              "    .dataframe tbody tr th {\n",
              "        vertical-align: top;\n",
              "    }\n",
              "\n",
              "    .dataframe thead th {\n",
              "        text-align: right;\n",
              "    }\n",
              "</style>\n",
              "<table border=\"1\" class=\"dataframe\">\n",
              "  <thead>\n",
              "    <tr style=\"text-align: right;\">\n",
              "      <th></th>\n",
              "      <th>label</th>\n",
              "      <th>1x1</th>\n",
              "      <th>1x2</th>\n",
              "      <th>1x3</th>\n",
              "      <th>1x4</th>\n",
              "      <th>1x5</th>\n",
              "      <th>1x6</th>\n",
              "      <th>1x7</th>\n",
              "      <th>1x8</th>\n",
              "      <th>1x9</th>\n",
              "      <th>1x10</th>\n",
              "      <th>1x11</th>\n",
              "      <th>1x12</th>\n",
              "      <th>1x13</th>\n",
              "      <th>1x14</th>\n",
              "      <th>1x15</th>\n",
              "      <th>1x16</th>\n",
              "      <th>1x17</th>\n",
              "      <th>1x18</th>\n",
              "      <th>1x19</th>\n",
              "      <th>1x20</th>\n",
              "      <th>1x21</th>\n",
              "      <th>1x22</th>\n",
              "      <th>1x23</th>\n",
              "      <th>1x24</th>\n",
              "      <th>1x25</th>\n",
              "      <th>1x26</th>\n",
              "      <th>1x27</th>\n",
              "      <th>1x28</th>\n",
              "      <th>2x1</th>\n",
              "      <th>2x2</th>\n",
              "      <th>2x3</th>\n",
              "      <th>2x4</th>\n",
              "      <th>2x5</th>\n",
              "      <th>2x6</th>\n",
              "      <th>2x7</th>\n",
              "      <th>2x8</th>\n",
              "      <th>2x9</th>\n",
              "      <th>2x10</th>\n",
              "      <th>2x11</th>\n",
              "      <th>...</th>\n",
              "      <th>27x17</th>\n",
              "      <th>27x18</th>\n",
              "      <th>27x19</th>\n",
              "      <th>27x20</th>\n",
              "      <th>27x21</th>\n",
              "      <th>27x22</th>\n",
              "      <th>27x23</th>\n",
              "      <th>27x24</th>\n",
              "      <th>27x25</th>\n",
              "      <th>27x26</th>\n",
              "      <th>27x27</th>\n",
              "      <th>27x28</th>\n",
              "      <th>28x1</th>\n",
              "      <th>28x2</th>\n",
              "      <th>28x3</th>\n",
              "      <th>28x4</th>\n",
              "      <th>28x5</th>\n",
              "      <th>28x6</th>\n",
              "      <th>28x7</th>\n",
              "      <th>28x8</th>\n",
              "      <th>28x9</th>\n",
              "      <th>28x10</th>\n",
              "      <th>28x11</th>\n",
              "      <th>28x12</th>\n",
              "      <th>28x13</th>\n",
              "      <th>28x14</th>\n",
              "      <th>28x15</th>\n",
              "      <th>28x16</th>\n",
              "      <th>28x17</th>\n",
              "      <th>28x18</th>\n",
              "      <th>28x19</th>\n",
              "      <th>28x20</th>\n",
              "      <th>28x21</th>\n",
              "      <th>28x22</th>\n",
              "      <th>28x23</th>\n",
              "      <th>28x24</th>\n",
              "      <th>28x25</th>\n",
              "      <th>28x26</th>\n",
              "      <th>28x27</th>\n",
              "      <th>28x28</th>\n",
              "    </tr>\n",
              "  </thead>\n",
              "  <tbody>\n",
              "    <tr>\n",
              "      <th>0</th>\n",
              "      <td>5</td>\n",
              "      <td>0</td>\n",
              "      <td>0</td>\n",
              "      <td>0</td>\n",
              "      <td>0</td>\n",
              "      <td>0</td>\n",
              "      <td>0</td>\n",
              "      <td>0</td>\n",
              "      <td>0</td>\n",
              "      <td>0</td>\n",
              "      <td>0</td>\n",
              "      <td>0</td>\n",
              "      <td>0</td>\n",
              "      <td>0</td>\n",
              "      <td>0</td>\n",
              "      <td>0</td>\n",
              "      <td>0</td>\n",
              "      <td>0</td>\n",
              "      <td>0</td>\n",
              "      <td>0</td>\n",
              "      <td>0</td>\n",
              "      <td>0</td>\n",
              "      <td>0</td>\n",
              "      <td>0</td>\n",
              "      <td>0</td>\n",
              "      <td>0</td>\n",
              "      <td>0</td>\n",
              "      <td>0</td>\n",
              "      <td>0</td>\n",
              "      <td>0</td>\n",
              "      <td>0</td>\n",
              "      <td>0</td>\n",
              "      <td>0</td>\n",
              "      <td>0</td>\n",
              "      <td>0</td>\n",
              "      <td>0</td>\n",
              "      <td>0</td>\n",
              "      <td>0</td>\n",
              "      <td>0</td>\n",
              "      <td>0</td>\n",
              "      <td>...</td>\n",
              "      <td>0</td>\n",
              "      <td>0</td>\n",
              "      <td>0</td>\n",
              "      <td>0</td>\n",
              "      <td>0</td>\n",
              "      <td>0</td>\n",
              "      <td>0</td>\n",
              "      <td>0</td>\n",
              "      <td>0</td>\n",
              "      <td>0</td>\n",
              "      <td>0</td>\n",
              "      <td>0</td>\n",
              "      <td>0</td>\n",
              "      <td>0</td>\n",
              "      <td>0</td>\n",
              "      <td>0</td>\n",
              "      <td>0</td>\n",
              "      <td>0</td>\n",
              "      <td>0</td>\n",
              "      <td>0</td>\n",
              "      <td>0</td>\n",
              "      <td>0</td>\n",
              "      <td>0</td>\n",
              "      <td>0</td>\n",
              "      <td>0</td>\n",
              "      <td>0</td>\n",
              "      <td>0</td>\n",
              "      <td>0</td>\n",
              "      <td>0</td>\n",
              "      <td>0</td>\n",
              "      <td>0</td>\n",
              "      <td>0</td>\n",
              "      <td>0</td>\n",
              "      <td>0</td>\n",
              "      <td>0</td>\n",
              "      <td>0</td>\n",
              "      <td>0</td>\n",
              "      <td>0</td>\n",
              "      <td>0</td>\n",
              "      <td>0</td>\n",
              "    </tr>\n",
              "    <tr>\n",
              "      <th>1</th>\n",
              "      <td>0</td>\n",
              "      <td>0</td>\n",
              "      <td>0</td>\n",
              "      <td>0</td>\n",
              "      <td>0</td>\n",
              "      <td>0</td>\n",
              "      <td>0</td>\n",
              "      <td>0</td>\n",
              "      <td>0</td>\n",
              "      <td>0</td>\n",
              "      <td>0</td>\n",
              "      <td>0</td>\n",
              "      <td>0</td>\n",
              "      <td>0</td>\n",
              "      <td>0</td>\n",
              "      <td>0</td>\n",
              "      <td>0</td>\n",
              "      <td>0</td>\n",
              "      <td>0</td>\n",
              "      <td>0</td>\n",
              "      <td>0</td>\n",
              "      <td>0</td>\n",
              "      <td>0</td>\n",
              "      <td>0</td>\n",
              "      <td>0</td>\n",
              "      <td>0</td>\n",
              "      <td>0</td>\n",
              "      <td>0</td>\n",
              "      <td>0</td>\n",
              "      <td>0</td>\n",
              "      <td>0</td>\n",
              "      <td>0</td>\n",
              "      <td>0</td>\n",
              "      <td>0</td>\n",
              "      <td>0</td>\n",
              "      <td>0</td>\n",
              "      <td>0</td>\n",
              "      <td>0</td>\n",
              "      <td>0</td>\n",
              "      <td>0</td>\n",
              "      <td>...</td>\n",
              "      <td>0</td>\n",
              "      <td>0</td>\n",
              "      <td>0</td>\n",
              "      <td>0</td>\n",
              "      <td>0</td>\n",
              "      <td>0</td>\n",
              "      <td>0</td>\n",
              "      <td>0</td>\n",
              "      <td>0</td>\n",
              "      <td>0</td>\n",
              "      <td>0</td>\n",
              "      <td>0</td>\n",
              "      <td>0</td>\n",
              "      <td>0</td>\n",
              "      <td>0</td>\n",
              "      <td>0</td>\n",
              "      <td>0</td>\n",
              "      <td>0</td>\n",
              "      <td>0</td>\n",
              "      <td>0</td>\n",
              "      <td>0</td>\n",
              "      <td>0</td>\n",
              "      <td>0</td>\n",
              "      <td>0</td>\n",
              "      <td>0</td>\n",
              "      <td>0</td>\n",
              "      <td>0</td>\n",
              "      <td>0</td>\n",
              "      <td>0</td>\n",
              "      <td>0</td>\n",
              "      <td>0</td>\n",
              "      <td>0</td>\n",
              "      <td>0</td>\n",
              "      <td>0</td>\n",
              "      <td>0</td>\n",
              "      <td>0</td>\n",
              "      <td>0</td>\n",
              "      <td>0</td>\n",
              "      <td>0</td>\n",
              "      <td>0</td>\n",
              "    </tr>\n",
              "    <tr>\n",
              "      <th>2</th>\n",
              "      <td>4</td>\n",
              "      <td>0</td>\n",
              "      <td>0</td>\n",
              "      <td>0</td>\n",
              "      <td>0</td>\n",
              "      <td>0</td>\n",
              "      <td>0</td>\n",
              "      <td>0</td>\n",
              "      <td>0</td>\n",
              "      <td>0</td>\n",
              "      <td>0</td>\n",
              "      <td>0</td>\n",
              "      <td>0</td>\n",
              "      <td>0</td>\n",
              "      <td>0</td>\n",
              "      <td>0</td>\n",
              "      <td>0</td>\n",
              "      <td>0</td>\n",
              "      <td>0</td>\n",
              "      <td>0</td>\n",
              "      <td>0</td>\n",
              "      <td>0</td>\n",
              "      <td>0</td>\n",
              "      <td>0</td>\n",
              "      <td>0</td>\n",
              "      <td>0</td>\n",
              "      <td>0</td>\n",
              "      <td>0</td>\n",
              "      <td>0</td>\n",
              "      <td>0</td>\n",
              "      <td>0</td>\n",
              "      <td>0</td>\n",
              "      <td>0</td>\n",
              "      <td>0</td>\n",
              "      <td>0</td>\n",
              "      <td>0</td>\n",
              "      <td>0</td>\n",
              "      <td>0</td>\n",
              "      <td>0</td>\n",
              "      <td>0</td>\n",
              "      <td>...</td>\n",
              "      <td>0</td>\n",
              "      <td>0</td>\n",
              "      <td>0</td>\n",
              "      <td>0</td>\n",
              "      <td>0</td>\n",
              "      <td>0</td>\n",
              "      <td>0</td>\n",
              "      <td>0</td>\n",
              "      <td>0</td>\n",
              "      <td>0</td>\n",
              "      <td>0</td>\n",
              "      <td>0</td>\n",
              "      <td>0</td>\n",
              "      <td>0</td>\n",
              "      <td>0</td>\n",
              "      <td>0</td>\n",
              "      <td>0</td>\n",
              "      <td>0</td>\n",
              "      <td>0</td>\n",
              "      <td>0</td>\n",
              "      <td>0</td>\n",
              "      <td>0</td>\n",
              "      <td>0</td>\n",
              "      <td>0</td>\n",
              "      <td>0</td>\n",
              "      <td>0</td>\n",
              "      <td>0</td>\n",
              "      <td>0</td>\n",
              "      <td>0</td>\n",
              "      <td>0</td>\n",
              "      <td>0</td>\n",
              "      <td>0</td>\n",
              "      <td>0</td>\n",
              "      <td>0</td>\n",
              "      <td>0</td>\n",
              "      <td>0</td>\n",
              "      <td>0</td>\n",
              "      <td>0</td>\n",
              "      <td>0</td>\n",
              "      <td>0</td>\n",
              "    </tr>\n",
              "    <tr>\n",
              "      <th>3</th>\n",
              "      <td>1</td>\n",
              "      <td>0</td>\n",
              "      <td>0</td>\n",
              "      <td>0</td>\n",
              "      <td>0</td>\n",
              "      <td>0</td>\n",
              "      <td>0</td>\n",
              "      <td>0</td>\n",
              "      <td>0</td>\n",
              "      <td>0</td>\n",
              "      <td>0</td>\n",
              "      <td>0</td>\n",
              "      <td>0</td>\n",
              "      <td>0</td>\n",
              "      <td>0</td>\n",
              "      <td>0</td>\n",
              "      <td>0</td>\n",
              "      <td>0</td>\n",
              "      <td>0</td>\n",
              "      <td>0</td>\n",
              "      <td>0</td>\n",
              "      <td>0</td>\n",
              "      <td>0</td>\n",
              "      <td>0</td>\n",
              "      <td>0</td>\n",
              "      <td>0</td>\n",
              "      <td>0</td>\n",
              "      <td>0</td>\n",
              "      <td>0</td>\n",
              "      <td>0</td>\n",
              "      <td>0</td>\n",
              "      <td>0</td>\n",
              "      <td>0</td>\n",
              "      <td>0</td>\n",
              "      <td>0</td>\n",
              "      <td>0</td>\n",
              "      <td>0</td>\n",
              "      <td>0</td>\n",
              "      <td>0</td>\n",
              "      <td>0</td>\n",
              "      <td>...</td>\n",
              "      <td>0</td>\n",
              "      <td>0</td>\n",
              "      <td>0</td>\n",
              "      <td>0</td>\n",
              "      <td>0</td>\n",
              "      <td>0</td>\n",
              "      <td>0</td>\n",
              "      <td>0</td>\n",
              "      <td>0</td>\n",
              "      <td>0</td>\n",
              "      <td>0</td>\n",
              "      <td>0</td>\n",
              "      <td>0</td>\n",
              "      <td>0</td>\n",
              "      <td>0</td>\n",
              "      <td>0</td>\n",
              "      <td>0</td>\n",
              "      <td>0</td>\n",
              "      <td>0</td>\n",
              "      <td>0</td>\n",
              "      <td>0</td>\n",
              "      <td>0</td>\n",
              "      <td>0</td>\n",
              "      <td>0</td>\n",
              "      <td>0</td>\n",
              "      <td>0</td>\n",
              "      <td>0</td>\n",
              "      <td>0</td>\n",
              "      <td>0</td>\n",
              "      <td>0</td>\n",
              "      <td>0</td>\n",
              "      <td>0</td>\n",
              "      <td>0</td>\n",
              "      <td>0</td>\n",
              "      <td>0</td>\n",
              "      <td>0</td>\n",
              "      <td>0</td>\n",
              "      <td>0</td>\n",
              "      <td>0</td>\n",
              "      <td>0</td>\n",
              "    </tr>\n",
              "    <tr>\n",
              "      <th>4</th>\n",
              "      <td>9</td>\n",
              "      <td>0</td>\n",
              "      <td>0</td>\n",
              "      <td>0</td>\n",
              "      <td>0</td>\n",
              "      <td>0</td>\n",
              "      <td>0</td>\n",
              "      <td>0</td>\n",
              "      <td>0</td>\n",
              "      <td>0</td>\n",
              "      <td>0</td>\n",
              "      <td>0</td>\n",
              "      <td>0</td>\n",
              "      <td>0</td>\n",
              "      <td>0</td>\n",
              "      <td>0</td>\n",
              "      <td>0</td>\n",
              "      <td>0</td>\n",
              "      <td>0</td>\n",
              "      <td>0</td>\n",
              "      <td>0</td>\n",
              "      <td>0</td>\n",
              "      <td>0</td>\n",
              "      <td>0</td>\n",
              "      <td>0</td>\n",
              "      <td>0</td>\n",
              "      <td>0</td>\n",
              "      <td>0</td>\n",
              "      <td>0</td>\n",
              "      <td>0</td>\n",
              "      <td>0</td>\n",
              "      <td>0</td>\n",
              "      <td>0</td>\n",
              "      <td>0</td>\n",
              "      <td>0</td>\n",
              "      <td>0</td>\n",
              "      <td>0</td>\n",
              "      <td>0</td>\n",
              "      <td>0</td>\n",
              "      <td>0</td>\n",
              "      <td>...</td>\n",
              "      <td>147</td>\n",
              "      <td>252</td>\n",
              "      <td>42</td>\n",
              "      <td>0</td>\n",
              "      <td>0</td>\n",
              "      <td>0</td>\n",
              "      <td>0</td>\n",
              "      <td>0</td>\n",
              "      <td>0</td>\n",
              "      <td>0</td>\n",
              "      <td>0</td>\n",
              "      <td>0</td>\n",
              "      <td>0</td>\n",
              "      <td>0</td>\n",
              "      <td>0</td>\n",
              "      <td>0</td>\n",
              "      <td>0</td>\n",
              "      <td>0</td>\n",
              "      <td>0</td>\n",
              "      <td>0</td>\n",
              "      <td>0</td>\n",
              "      <td>0</td>\n",
              "      <td>0</td>\n",
              "      <td>0</td>\n",
              "      <td>0</td>\n",
              "      <td>0</td>\n",
              "      <td>0</td>\n",
              "      <td>0</td>\n",
              "      <td>0</td>\n",
              "      <td>0</td>\n",
              "      <td>0</td>\n",
              "      <td>0</td>\n",
              "      <td>0</td>\n",
              "      <td>0</td>\n",
              "      <td>0</td>\n",
              "      <td>0</td>\n",
              "      <td>0</td>\n",
              "      <td>0</td>\n",
              "      <td>0</td>\n",
              "      <td>0</td>\n",
              "    </tr>\n",
              "  </tbody>\n",
              "</table>\n",
              "<p>5 rows × 785 columns</p>\n",
              "</div>"
            ],
            "text/plain": [
              "   label  1x1  1x2  1x3  1x4  1x5  ...  28x23  28x24  28x25  28x26  28x27  28x28\n",
              "0      5    0    0    0    0    0  ...      0      0      0      0      0      0\n",
              "1      0    0    0    0    0    0  ...      0      0      0      0      0      0\n",
              "2      4    0    0    0    0    0  ...      0      0      0      0      0      0\n",
              "3      1    0    0    0    0    0  ...      0      0      0      0      0      0\n",
              "4      9    0    0    0    0    0  ...      0      0      0      0      0      0\n",
              "\n",
              "[5 rows x 785 columns]"
            ]
          },
          "metadata": {
            "tags": []
          },
          "execution_count": 5
        }
      ]
    },
    {
      "cell_type": "code",
      "metadata": {
        "colab": {
          "base_uri": "https://localhost:8080/"
        },
        "id": "627DQHlOzb0D",
        "outputId": "4ec746ec-c362-4412-c436-23e57bac680b"
      },
      "source": [
        "print(df_train.info())\n",
        "print()\n",
        "print(df_test.info())"
      ],
      "execution_count": 4,
      "outputs": [
        {
          "output_type": "stream",
          "text": [
            "<class 'pandas.core.frame.DataFrame'>\n",
            "RangeIndex: 60000 entries, 0 to 59999\n",
            "Columns: 785 entries, label to 28x28\n",
            "dtypes: int64(785)\n",
            "memory usage: 359.3 MB\n",
            "None\n",
            "\n",
            "<class 'pandas.core.frame.DataFrame'>\n",
            "RangeIndex: 10000 entries, 0 to 9999\n",
            "Columns: 785 entries, label to 28x28\n",
            "dtypes: int64(785)\n",
            "memory usage: 59.9 MB\n",
            "None\n"
          ],
          "name": "stdout"
        }
      ]
    },
    {
      "cell_type": "markdown",
      "metadata": {
        "id": "3cHCpIfRzbVY"
      },
      "source": [
        "### Dividing the data into train, test and cross-validation datasets"
      ]
    },
    {
      "cell_type": "code",
      "metadata": {
        "id": "xe0rpRkssuod"
      },
      "source": [
        "from sklearn.model_selection import train_test_split"
      ],
      "execution_count": 6,
      "outputs": []
    },
    {
      "cell_type": "code",
      "metadata": {
        "id": "RSyZ7xCesutH"
      },
      "source": [
        "cl = []\n",
        "for i in range(1,29):\n",
        "  for j in range(1,29):\n",
        "    cl.append(str(i)+'x'+str(j))"
      ],
      "execution_count": 7,
      "outputs": []
    },
    {
      "cell_type": "code",
      "metadata": {
        "id": "8vckVcbPsu3W"
      },
      "source": [
        "X = df_train[cl]\n",
        "y = df_train['label']\n",
        "X_test = df_test[cl]\n",
        "y_test = df_test['label']"
      ],
      "execution_count": 9,
      "outputs": []
    },
    {
      "cell_type": "code",
      "metadata": {
        "id": "xLiX77Efsu73"
      },
      "source": [
        "X_train,X_cv,y_train,y_cv = train_test_split(X,y,test_size=0.2,random_state=101)"
      ],
      "execution_count": 10,
      "outputs": []
    },
    {
      "cell_type": "code",
      "metadata": {
        "colab": {
          "base_uri": "https://localhost:8080/"
        },
        "id": "tKg8rwhssvAn",
        "outputId": "81a0ab39-cc98-4d1c-dfbe-ef08ffd83061"
      },
      "source": [
        "print(\"Training data: \",len(X_train))\n",
        "print(\"Cross-Validation data: \",len(X_cv))\n",
        "print(\"Testing data: \",len(df_test))"
      ],
      "execution_count": 11,
      "outputs": [
        {
          "output_type": "stream",
          "text": [
            "Training data:  48000\n",
            "Cross-Validation data:  12000\n",
            "Testing data:  10000\n"
          ],
          "name": "stdout"
        }
      ]
    },
    {
      "cell_type": "markdown",
      "metadata": {
        "id": "h1DHD3ASz3Mx"
      },
      "source": [
        "### Visualizing the data"
      ]
    },
    {
      "cell_type": "code",
      "metadata": {
        "colab": {
          "base_uri": "https://localhost:8080/",
          "height": 267
        },
        "id": "b4dX-EoYsvF6",
        "outputId": "06298210-ae4f-420b-8191-6e56a2530047"
      },
      "source": [
        "images = []\n",
        "for i in range(9):\n",
        "  arr = np.array(X_train.iloc[i])\n",
        "  images.append(arr.reshape((28,28)))\n",
        "\n",
        "for i in range(9):\n",
        "    plt.subplot(331+i)\n",
        "    plt.imshow(images[i],cmap=plt.get_cmap('gray')) \n",
        "plt.show()"
      ],
      "execution_count": 12,
      "outputs": [
        {
          "output_type": "display_data",
          "data": {
            "image/png": "[encoded data removed]",
            "text/plain": [
              "<Figure size 432x288 with 9 Axes>"
            ]
          },
          "metadata": {
            "tags": [],
            "needs_background": "light"
          }
        }
      ]
    },
    {
      "cell_type": "markdown",
      "metadata": {
        "id": "AMEB0LlMz_XB"
      },
      "source": [
        "## Feature Scaling"
      ]
    },
    {
      "cell_type": "code",
      "metadata": {
        "id": "Jfhgsq1CsvKu"
      },
      "source": [
        "from sklearn.preprocessing import MinMaxScaler"
      ],
      "execution_count": 13,
      "outputs": []
    },
    {
      "cell_type": "code",
      "metadata": {
        "id": "2Z0Icp6usvP8"
      },
      "source": [
        "scaler = MinMaxScaler()\n",
        "scaler.fit(X_train)\n",
        "X_train = scaler.transform(X_train)\n",
        "X_cv = scaler.transform(X_cv)\n",
        "X_test = scaler.transform(X_test)"
      ],
      "execution_count": 14,
      "outputs": []
    },
    {
      "cell_type": "markdown",
      "metadata": {
        "id": "okQ2iPuy0D_D"
      },
      "source": [
        "## Training the model"
      ]
    },
    {
      "cell_type": "code",
      "metadata": {
        "id": "05PRYdeIsvUj"
      },
      "source": [
        "from tensorflow.keras.models import Sequential\n",
        "from tensorflow.keras.layers import Dense,Dropout,Flatten\n",
        "from tensorflow.keras.callbacks import EarlyStopping"
      ],
      "execution_count": 15,
      "outputs": []
    },
    {
      "cell_type": "code",
      "metadata": {
        "id": "x_EsHn1wsvbF"
      },
      "source": [
        "earlystop = EarlyStopping(monitor='val_loss',mode='min',verbose=1,patience=25)"
      ],
      "execution_count": 16,
      "outputs": []
    },
    {
      "cell_type": "code",
      "metadata": {
        "id": "g42He41Qsvkr",
        "colab": {
          "base_uri": "https://localhost:8080/"
        },
        "outputId": "9e364922-cf79-47ae-ee71-a493b90bb25a"
      },
      "source": [
        "model = Sequential()\n",
        "model.add(Flatten())\n",
        "model.add(Dense(784,activation='relu'))\n",
        "model.add(Dropout(0.45))\n",
        "model.add(Dense(128,activation='relu'))\n",
        "model.add(Dropout(0.45))\n",
        "model.add(Dense(10,activation='softmax'))\n",
        "\n",
        "model.compile(optimizer='adam',loss='sparse_categorical_crossentropy', metrics=['accuracy'])\n",
        "history = model.fit(X_train,y_train,epochs=100,validation_data=(X_cv,y_cv),verbose=1,callbacks=[earlystop])"
      ],
      "execution_count": 97,
      "outputs": [
        {
          "output_type": "stream",
          "text": [
            "Epoch 1/100\n",
            "1500/1500 [==============================] - 8s 5ms/step - loss: 0.5446 - accuracy: 0.8273 - val_loss: 0.1661 - val_accuracy: 0.9473\n",
            "Epoch 2/100\n",
            "1500/1500 [==============================] - 8s 5ms/step - loss: 0.1861 - accuracy: 0.9461 - val_loss: 0.1169 - val_accuracy: 0.9636\n",
            "Epoch 3/100\n",
            "1500/1500 [==============================] - 8s 5ms/step - loss: 0.1335 - accuracy: 0.9603 - val_loss: 0.0994 - val_accuracy: 0.9678\n",
            "Epoch 4/100\n",
            "1500/1500 [==============================] - 8s 5ms/step - loss: 0.1153 - accuracy: 0.9654 - val_loss: 0.1049 - val_accuracy: 0.9705\n",
            "Epoch 5/100\n",
            "1500/1500 [==============================] - 8s 5ms/step - loss: 0.1071 - accuracy: 0.9682 - val_loss: 0.0845 - val_accuracy: 0.9747\n",
            "Epoch 6/100\n",
            "1500/1500 [==============================] - 8s 5ms/step - loss: 0.0912 - accuracy: 0.9722 - val_loss: 0.0903 - val_accuracy: 0.9745\n",
            "Epoch 7/100\n",
            "1500/1500 [==============================] - 8s 5ms/step - loss: 0.0821 - accuracy: 0.9746 - val_loss: 0.0910 - val_accuracy: 0.9753\n",
            "Epoch 8/100\n",
            "1500/1500 [==============================] - 8s 5ms/step - loss: 0.0833 - accuracy: 0.9747 - val_loss: 0.0844 - val_accuracy: 0.9768\n",
            "Epoch 9/100\n",
            "1500/1500 [==============================] - 8s 5ms/step - loss: 0.0796 - accuracy: 0.9761 - val_loss: 0.0832 - val_accuracy: 0.9782\n",
            "Epoch 10/100\n",
            "1500/1500 [==============================] - 8s 5ms/step - loss: 0.0698 - accuracy: 0.9783 - val_loss: 0.0836 - val_accuracy: 0.9783\n",
            "Epoch 11/100\n",
            "1500/1500 [==============================] - 8s 5ms/step - loss: 0.0649 - accuracy: 0.9788 - val_loss: 0.0805 - val_accuracy: 0.9790\n",
            "Epoch 12/100\n",
            "1500/1500 [==============================] - 8s 5ms/step - loss: 0.0631 - accuracy: 0.9799 - val_loss: 0.0839 - val_accuracy: 0.9795\n",
            "Epoch 13/100\n",
            "1500/1500 [==============================] - 8s 5ms/step - loss: 0.0620 - accuracy: 0.9816 - val_loss: 0.0823 - val_accuracy: 0.9812\n",
            "Epoch 14/100\n",
            "1500/1500 [==============================] - 8s 5ms/step - loss: 0.0582 - accuracy: 0.9817 - val_loss: 0.0955 - val_accuracy: 0.9780\n",
            "Epoch 15/100\n",
            "1500/1500 [==============================] - 8s 5ms/step - loss: 0.0592 - accuracy: 0.9817 - val_loss: 0.0911 - val_accuracy: 0.9798\n",
            "Epoch 16/100\n",
            "1500/1500 [==============================] - 8s 5ms/step - loss: 0.0612 - accuracy: 0.9815 - val_loss: 0.0944 - val_accuracy: 0.9784\n",
            "Epoch 17/100\n",
            "1500/1500 [==============================] - 8s 5ms/step - loss: 0.0569 - accuracy: 0.9824 - val_loss: 0.0880 - val_accuracy: 0.9793\n",
            "Epoch 18/100\n",
            "1500/1500 [==============================] - 8s 5ms/step - loss: 0.0555 - accuracy: 0.9838 - val_loss: 0.0979 - val_accuracy: 0.9778\n",
            "Epoch 19/100\n",
            "1500/1500 [==============================] - 8s 5ms/step - loss: 0.0523 - accuracy: 0.9839 - val_loss: 0.0885 - val_accuracy: 0.9807\n",
            "Epoch 20/100\n",
            "1500/1500 [==============================] - 8s 5ms/step - loss: 0.0500 - accuracy: 0.9848 - val_loss: 0.0867 - val_accuracy: 0.9815\n",
            "Epoch 21/100\n",
            "1500/1500 [==============================] - 8s 5ms/step - loss: 0.0449 - accuracy: 0.9861 - val_loss: 0.0900 - val_accuracy: 0.9806\n",
            "Epoch 22/100\n",
            "1500/1500 [==============================] - 8s 5ms/step - loss: 0.0510 - accuracy: 0.9856 - val_loss: 0.1027 - val_accuracy: 0.9809\n",
            "Epoch 23/100\n",
            "1500/1500 [==============================] - 8s 5ms/step - loss: 0.0493 - accuracy: 0.9852 - val_loss: 0.0944 - val_accuracy: 0.9805\n",
            "Epoch 24/100\n",
            "1500/1500 [==============================] - 8s 5ms/step - loss: 0.0499 - accuracy: 0.9857 - val_loss: 0.1056 - val_accuracy: 0.9806\n",
            "Epoch 25/100\n",
            "1500/1500 [==============================] - 8s 5ms/step - loss: 0.0453 - accuracy: 0.9872 - val_loss: 0.0980 - val_accuracy: 0.9795\n",
            "Epoch 26/100\n",
            "1500/1500 [==============================] - 8s 5ms/step - loss: 0.0464 - accuracy: 0.9863 - val_loss: 0.0969 - val_accuracy: 0.9818\n",
            "Epoch 27/100\n",
            "1500/1500 [==============================] - 8s 5ms/step - loss: 0.0389 - accuracy: 0.9883 - val_loss: 0.1026 - val_accuracy: 0.9795\n",
            "Epoch 28/100\n",
            "1500/1500 [==============================] - 8s 5ms/step - loss: 0.0407 - accuracy: 0.9872 - val_loss: 0.0974 - val_accuracy: 0.9812\n",
            "Epoch 29/100\n",
            "1500/1500 [==============================] - 8s 5ms/step - loss: 0.0374 - accuracy: 0.9894 - val_loss: 0.1000 - val_accuracy: 0.9812\n",
            "Epoch 30/100\n",
            "1500/1500 [==============================] - 8s 5ms/step - loss: 0.0419 - accuracy: 0.9883 - val_loss: 0.1182 - val_accuracy: 0.9793\n",
            "Epoch 31/100\n",
            "1500/1500 [==============================] - 8s 5ms/step - loss: 0.0426 - accuracy: 0.9875 - val_loss: 0.1078 - val_accuracy: 0.9808\n",
            "Epoch 32/100\n",
            "1500/1500 [==============================] - 8s 5ms/step - loss: 0.0414 - accuracy: 0.9879 - val_loss: 0.1058 - val_accuracy: 0.9810\n",
            "Epoch 33/100\n",
            "1500/1500 [==============================] - 8s 5ms/step - loss: 0.0392 - accuracy: 0.9895 - val_loss: 0.1017 - val_accuracy: 0.9811\n",
            "Epoch 34/100\n",
            "1500/1500 [==============================] - 8s 5ms/step - loss: 0.0337 - accuracy: 0.9903 - val_loss: 0.1192 - val_accuracy: 0.9793\n",
            "Epoch 35/100\n",
            "1500/1500 [==============================] - 8s 5ms/step - loss: 0.0395 - accuracy: 0.9890 - val_loss: 0.1112 - val_accuracy: 0.9813\n",
            "Epoch 36/100\n",
            "1500/1500 [==============================] - 8s 5ms/step - loss: 0.0367 - accuracy: 0.9900 - val_loss: 0.1230 - val_accuracy: 0.9821\n",
            "Epoch 00036: early stopping\n"
          ],
          "name": "stdout"
        }
      ]
    },
    {
      "cell_type": "markdown",
      "metadata": {
        "id": "dfSdJRBp0ZRP"
      },
      "source": [
        "### Analyising the results"
      ]
    },
    {
      "cell_type": "code",
      "metadata": {
        "id": "G14MKyy5svpL"
      },
      "source": [
        "loss_df = pd.DataFrame(model.history.history)"
      ],
      "execution_count": 27,
      "outputs": []
    },
    {
      "cell_type": "code",
      "metadata": {
        "id": "-wKdUMMFsvt6",
        "colab": {
          "base_uri": "https://localhost:8080/",
          "height": 282
        },
        "outputId": "cb341731-6a2d-40be-876a-29e589e796cc"
      },
      "source": [
        "loss_df.plot()"
      ],
      "execution_count": 28,
      "outputs": [
        {
          "output_type": "execute_result",
          "data": {
            "text/plain": [
              "<matplotlib.axes._subplots.AxesSubplot at 0x7ff4e1104b90>"
            ]
          },
          "metadata": {
            "tags": []
          },
          "execution_count": 28
        },
        {
          "output_type": "display_data",
          "data": {
            "image/png": "[encoded data removed]",
            "text/plain": [
              "<Figure size 432x288 with 1 Axes>"
            ]
          },
          "metadata": {
            "tags": [],
            "needs_background": "light"
          }
        }
      ]
    },
    {
      "cell_type": "code",
      "metadata": {
        "id": "BKWa309Xsvy0",
        "colab": {
          "base_uri": "https://localhost:8080/",
          "height": 462
        },
        "outputId": "45d65a9b-759d-417a-ec92-de52c6b3230d"
      },
      "source": [
        "plt.figure(figsize=(12,7))\n",
        "plt.subplot(2,1,1)\n",
        "plt.title('Cross Entropy Loss')\n",
        "plt.plot(history.history['loss'],color='blue',label='train')\n",
        "plt.plot(history.history['val_loss'],color='orange',label='test')\n",
        "                \n",
        "plt.subplot(2,1,2)\n",
        "plt.title('Classification Accuracy')\n",
        "plt.plot(history.history['accuracy'],color='blue',label='train')\n",
        "plt.plot(history.history['val_accuracy'],color='orange',label='test')"
      ],
      "execution_count": 29,
      "outputs": [
        {
          "output_type": "execute_result",
          "data": {
            "text/plain": [
              "[<matplotlib.lines.Line2D at 0x7ff4e1009b50>]"
            ]
          },
          "metadata": {
            "tags": []
          },
          "execution_count": 29
        },
        {
          "output_type": "display_data",
          "data": {
            "image/png": "[encoded data removed]",
            "text/plain": [
              "<Figure size 864x504 with 2 Axes>"
            ]
          },
          "metadata": {
            "tags": [],
            "needs_background": "light"
          }
        }
      ]
    },
    {
      "cell_type": "code",
      "metadata": {
        "id": "c-cXy59Asv3S",
        "colab": {
          "base_uri": "https://localhost:8080/"
        },
        "outputId": "ba3deff6-90b5-43d0-84a1-c4ad5383bef2"
      },
      "source": [
        "val_loss,val_acc = model.evaluate(X_cv,y_cv)\n",
        "print(val_loss)\n",
        "print(val_acc)"
      ],
      "execution_count": 30,
      "outputs": [
        {
          "output_type": "stream",
          "text": [
            "375/375 [==============================] - 1s 2ms/step - loss: 0.0971 - accuracy: 0.9813\n",
            "0.0971212089061737\n",
            "0.981333315372467\n"
          ],
          "name": "stdout"
        }
      ]
    },
    {
      "cell_type": "markdown",
      "metadata": {
        "id": "tnxtMCUZ0dHm"
      },
      "source": [
        "## Evaluating the model"
      ]
    },
    {
      "cell_type": "code",
      "metadata": {
        "id": "afUzK2Hxsv75"
      },
      "source": [
        "from sklearn.metrics import classification_report,confusion_matrix,accuracy_score"
      ],
      "execution_count": 31,
      "outputs": []
    },
    {
      "cell_type": "code",
      "metadata": {
        "id": "VeVrRUMgswAh"
      },
      "source": [
        "pred = np.argmax(model.predict(X_test),axis=-1)"
      ],
      "execution_count": 32,
      "outputs": []
    },
    {
      "cell_type": "code",
      "metadata": {
        "id": "GEJ5r4orswFS",
        "colab": {
          "base_uri": "https://localhost:8080/"
        },
        "outputId": "fca29eee-8442-41c0-e6ee-feba0603f7a6"
      },
      "source": [
        "val_loss,val_acc = model.evaluate(X_test,y_test)\n",
        "print(val_loss)\n",
        "print(val_acc)"
      ],
      "execution_count": 33,
      "outputs": [
        {
          "output_type": "stream",
          "text": [
            "313/313 [==============================] - 1s 2ms/step - loss: 0.0972 - accuracy: 0.9819\n",
            "0.0971727967262268\n",
            "0.9818999767303467\n"
          ],
          "name": "stdout"
        }
      ]
    },
    {
      "cell_type": "code",
      "metadata": {
        "id": "2tiaK6JVswK8",
        "colab": {
          "base_uri": "https://localhost:8080/"
        },
        "outputId": "7cdef944-092f-47d2-ee6f-bab60aacf04f"
      },
      "source": [
        "print(accuracy_score(pred,y_test))\n",
        "print()\n",
        "print(classification_report(pred,y_test))\n",
        "print()\n",
        "print(confusion_matrix(pred,y_test))"
      ],
      "execution_count": 34,
      "outputs": [
        {
          "output_type": "stream",
          "text": [
            "0.9819\n",
            "\n",
            "              precision    recall  f1-score   support\n",
            "\n",
            "           0       0.99      0.98      0.99       993\n",
            "           1       0.99      0.99      0.99      1143\n",
            "           2       0.98      0.98      0.98      1032\n",
            "           3       0.99      0.99      0.99      1006\n",
            "           4       0.99      0.97      0.98       999\n",
            "           5       0.98      0.98      0.98       886\n",
            "           6       0.98      0.99      0.98       949\n",
            "           7       0.98      0.98      0.98      1030\n",
            "           8       0.98      0.97      0.98       982\n",
            "           9       0.96      0.99      0.97       980\n",
            "\n",
            "    accuracy                           0.98     10000\n",
            "   macro avg       0.98      0.98      0.98     10000\n",
            "weighted avg       0.98      0.98      0.98     10000\n",
            "\n",
            "\n",
            "[[ 974    0    4    0    0    2    6    0    5    2]\n",
            " [   1 1128    1    0    0    1    4    3    1    4]\n",
            " [   0    2 1013    4    2    0    0    8    2    1]\n",
            " [   0    1    1  995    0    7    0    0    0    2]\n",
            " [   0    0    1    0  970    1    2    0    5   20]\n",
            " [   0    0    0    0    0  871    9    0    3    3]\n",
            " [   2    2    1    0    4    3  936    0    0    1]\n",
            " [   1    0    4    3    2    1    0 1011    2    6]\n",
            " [   2    2    7    4    1    5    1    3  954    3]\n",
            " [   0    0    0    4    3    1    0    3    2  967]]\n"
          ],
          "name": "stdout"
        }
      ]
    },
    {
      "cell_type": "markdown",
      "metadata": {
        "id": "VIC-s7Xv0np9"
      },
      "source": [
        "### Saving the model"
      ]
    },
    {
      "cell_type": "code",
      "metadata": {
        "id": "mFR1h5avswXL"
      },
      "source": [
        "model.save('mnist_digit_classification_model.h5')"
      ],
      "execution_count": 35,
      "outputs": []
    },
    {
      "cell_type": "code",
      "metadata": {
        "colab": {
          "base_uri": "https://localhost:8080/"
        },
        "id": "90IlxyIu-pw3",
        "outputId": "f3d26211-784d-4b8a-b717-73b5154966fb"
      },
      "source": [
        "from keras.models import model_from_json\n",
        "model_json = model.to_json()\n",
        "with open(\"model.json\", \"w\") as json_file:\n",
        "    json_file.write(model_json)\n",
        "print(\"model saved as model.json file\")"
      ],
      "execution_count": 65,
      "outputs": [
        {
          "output_type": "stream",
          "text": [
            "model saved as model.json file\n"
          ],
          "name": "stdout"
        }
      ]
    },
    {
      "cell_type": "markdown",
      "metadata": {
        "id": "tisPhAQyUCpX"
      },
      "source": [
        "## Trying the model "
      ]
    },
    {
      "cell_type": "code",
      "metadata": {
        "id": "7Zka40wj-pFa"
      },
      "source": [
        "from IPython.display import display, Javascript\n",
        "from google.colab.output import eval_js\n",
        "from base64 import b64decode\n",
        "\n",
        "def take_photo(filename='photo.jpg', quality=0.8):\n",
        "  js = Javascript('''\n",
        "    async function takePhoto(quality) {\n",
        "      const div = document.createElement('div');\n",
        "      const capture = document.createElement('button');\n",
        "      capture.textContent = 'Capture';\n",
        "      div.appendChild(capture);\n",
        "      const video = document.createElement('video');\n",
        "      video.style.display = 'block';\n",
        "      const stream = await navigator.mediaDevices.getUserMedia({video: true});\n",
        "\n",
        "      document.body.appendChild(div);\n",
        "      div.appendChild(video);\n",
        "      video.srcObject = stream;\n",
        "      await video.play();\n",
        "\n",
        "      // Resize the output to fit the video element.\n",
        "      google.colab.output.setIframeHeight(document.documentElement.scrollHeight, true);\n",
        "\n",
        "      // Wait for Capture to be clicked.\n",
        "      await new Promise((resolve) => capture.onclick = resolve);\n",
        "\n",
        "      const canvas = document.createElement('canvas');\n",
        "      canvas.width = video.videoWidth;\n",
        "      canvas.height = video.videoHeight;\n",
        "      canvas.getContext('2d').drawImage(video, 0, 0);\n",
        "      stream.getVideoTracks()[0].stop();\n",
        "      div.remove();\n",
        "      return canvas.toDataURL('image/jpeg', quality);\n",
        "    }\n",
        "    ''')\n",
        "  display(js)\n",
        "  data = eval_js('takePhoto({})'.format(quality))\n",
        "  binary = b64decode(data.split(',')[1])\n",
        "  with open(filename, 'wb') as f:\n",
        "    f.write(binary)\n",
        "  return filename"
      ],
      "execution_count": 78,
      "outputs": []
    },
    {
      "cell_type": "code",
      "metadata": {
        "colab": {
          "base_uri": "https://localhost:8080/",
          "height": 514
        },
        "id": "4xKE62lX-o7e",
        "outputId": "aaca6931-f755-4daf-96a3-6fc405d99b11"
      },
      "source": [
        "from IPython.display import Image\n",
        "try:\n",
        "  filename = take_photo()\n",
        "  print('Saved to {}'.format(filename))\n",
        "  \n",
        "  # Show the image which was just taken.\n",
        "  display(Image(filename))\n",
        "except Exception as err:\n",
        "  # Errors will be thrown if the user does not have a webcam or if they do not\n",
        "  # grant the page permission to access it.\n",
        "  print(str(err))"
      ],
      "execution_count": 79,
      "outputs": [
        {
          "output_type": "display_data",
          "data": {
            "application/javascript": [
              "\n",
              "    async function takePhoto(quality) {\n",
              "      const div = document.createElement('div');\n",
              "      const capture = document.createElement('button');\n",
              "      capture.textContent = 'Capture';\n",
              "      div.appendChild(capture);\n",
              "      const video = document.createElement('video');\n",
              "      video.style.display = 'block';\n",
              "      const stream = await navigator.mediaDevices.getUserMedia({video: true});\n",
              "\n",
              "      document.body.appendChild(div);\n",
              "      div.appendChild(video);\n",
              "      video.srcObject = stream;\n",
              "      await video.play();\n",
              "\n",
              "      // Resize the output to fit the video element.\n",
              "      google.colab.output.setIframeHeight(document.documentElement.scrollHeight, true);\n",
              "\n",
              "      // Wait for Capture to be clicked.\n",
              "      await new Promise((resolve) => capture.onclick = resolve);\n",
              "\n",
              "      const canvas = document.createElement('canvas');\n",
              "      canvas.width = video.videoWidth;\n",
              "      canvas.height = video.videoHeight;\n",
              "      canvas.getContext('2d').drawImage(video, 0, 0);\n",
              "      stream.getVideoTracks()[0].stop();\n",
              "      div.remove();\n",
              "      return canvas.toDataURL('image/jpeg', quality);\n",
              "    }\n",
              "    "
            ],
            "text/plain": [
              "<IPython.core.display.Javascript object>"
            ]
          },
          "metadata": {
            "tags": []
          }
        },
        {
          "output_type": "stream",
          "text": [
            "Saved to photo.jpg\n"
          ],
          "name": "stdout"
        },
        {
          "output_type": "display_data",
          "data": {
            "image/jpeg": "[encoded data removed]",
            "text/plain": [
              "<IPython.core.display.Image object>"
            ]
          },
          "metadata": {
            "tags": []
          }
        }
      ]
    },
    {
      "cell_type": "code",
      "metadata": {
        "colab": {
          "base_uri": "https://localhost:8080/"
        },
        "id": "l0HwE7_RTUNu",
        "outputId": "158fa47e-a4b1-40ac-c82f-c8f8a2070f04"
      },
      "source": [
        "def load_image(filename):\n",
        "  img = load_img(filename,color_mode='grayscale',target_size=(28,28))\n",
        "  img = img_to_array(img)\n",
        "  img = img.reshape((28,28))\n",
        "  img = img.astype('float32')\n",
        "  return img\n",
        "\n",
        "def image_pred():\n",
        "  img = load_image('photo.jpg')\n",
        "  img = img.reshape((1,784))\n",
        "  df_img = pd.DataFrame(img)\n",
        "  df_img.columns = [cl]\n",
        "  df_img = scaler.transform(df_img)\n",
        "  predict = np.argmax(model.predict(df_img),axis=-1)\n",
        "  return predict\n",
        "\n",
        "predict = image_pred()\n",
        "print(predict)"
      ],
      "execution_count": 100,
      "outputs": [
        {
          "output_type": "stream",
          "text": [
            "[7]\n"
          ],
          "name": "stdout"
        }
      ]
    }
  ]
}